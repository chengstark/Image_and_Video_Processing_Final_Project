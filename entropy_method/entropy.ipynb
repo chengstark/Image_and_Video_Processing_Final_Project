{
 "cells": [
  {
   "cell_type": "code",
   "execution_count": null,
   "metadata": {},
   "outputs": [],
   "source": [
    "import os\n",
    "\n",
    "import cv2\n",
    "import matplotlib.pyplot as plt\n",
    "import numpy as np\n",
    "from scipy.signal import medfilt\n",
    "\n",
    "from skimage.filters.rank import entropy\n",
    "from skimage.morphology import square"
   ]
  },
  {
   "cell_type": "code",
   "execution_count": null,
   "metadata": {},
   "outputs": [],
   "source": [
    "def entropyBlk(filename, sz=3, threshold=0.5):\n",
    "    image = cv2.imread(filename)\n",
    "    image_rgb = cv2.cvtColor(image, cv2.COLOR_BGR2RGB)\n",
    "    grayscale = cv2.cvtColor(image, cv2.COLOR_BGR2GRAY)\n",
    "    image_out = entropy(grayscale, square(sz))\n",
    "    \n",
    "    # Rescale image to emphasize high-entropy regions\n",
    "    theMax = np.amax(image_out)\n",
    "    if theMax > 0:\n",
    "        image_out /= theMax\n",
    "    \n",
    "    # Threshold the image\n",
    "    image_out = np.where(image_out < threshold, 0, image_out)\n",
    "    \n",
    "    image_final = cv2.cvtColor(image_out.astype('float32'), cv2.COLOR_GRAY2RGB)\n",
    "    \n",
    "    return image_rgb,image_final\n",
    "\n",
    "def procFiles(path, func, sz=15):\n",
    "    filenames = [f for f in os.listdir(path) if f.endswith(\"PNG\")]\n",
    "    os.makedirs(path + 'Processed/')\n",
    "    for filename in filenames:\n",
    "        print(path + filename)\n",
    "        _,out = func(path + filename, threshold=.9)\n",
    "        name, ext = os.path.splitext(filename)\n",
    "        full_path = path + 'Processed/' + name + '_entropy' + ext\n",
    "        cv2.imwrite(full_path, 255 * out)\n",
    "\n",
    "# def entropyMaskFiles(path, sz=15)"
   ]
  },
  {
   "cell_type": "code",
   "execution_count": null,
   "metadata": {},
   "outputs": [],
   "source": [
    "if __name__ == '__main__':\n",
    "    # Load image\n",
    "    plt.clf()\n",
    "    \n",
    "    sz = 15\n",
    "    path = \"../Images/Images_from_Liu_Bolin_s_site/\"\n",
    "    \n",
    "    procFiles(path, entropyBlk)\n",
    "    \n",
    "#     orig,final = entropyBlk(path + \"Liu5.PNG\", 11, .8)\n",
    "#     final = medfilt(final, 5)\n",
    "#     masked = orig * final\n",
    "\n",
    "#     plt.figure(figsize=(sz, sz))\n",
    "#     plt.imshow(final)\n",
    "#     plt.figure(figsize=(sz, sz))\n",
    "#     plt.imshow(orig)\n",
    "#     plt.figure(figsize=(sz, sz))\n",
    "#     plt.imshow(masked / 255)"
   ]
  },
  {
   "cell_type": "code",
   "execution_count": null,
   "metadata": {},
   "outputs": [],
   "source": []
  }
 ],
 "metadata": {
  "kernelspec": {
   "display_name": "Python 3",
   "language": "python",
   "name": "python3"
  },
  "language_info": {
   "codemirror_mode": {
    "name": "ipython",
    "version": 3
   },
   "file_extension": ".py",
   "mimetype": "text/x-python",
   "name": "python",
   "nbconvert_exporter": "python",
   "pygments_lexer": "ipython3",
   "version": "3.8.3"
  }
 },
 "nbformat": 4,
 "nbformat_minor": 4
}
