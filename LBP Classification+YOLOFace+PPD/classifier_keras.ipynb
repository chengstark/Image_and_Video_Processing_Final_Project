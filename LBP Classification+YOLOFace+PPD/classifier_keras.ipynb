{
 "cells": [
  {
   "cell_type": "code",
   "execution_count": 1,
   "metadata": {
    "pycharm": {
     "name": "#%%\n"
    }
   },
   "outputs": [
    {
     "name": "stderr",
     "output_type": "stream",
     "text": [
      "Using TensorFlow backend.\n"
     ]
    }
   ],
   "source": [
    "import numpy as np\n",
    "from sklearn.svm import SVC\n",
    "from sklearn.metrics import roc_auc_score\n",
    "from sklearn.ensemble import AdaBoostClassifier\n",
    "from sklearn.metrics import confusion_matrix\n",
    "import matplotlib.pyplot as plt\n",
    "from keras.models import Sequential\n",
    "from keras.layers import Dense\n",
    "from keras.wrappers.scikit_learn import KerasClassifier\n",
    "from sklearn.model_selection import cross_val_score\n",
    "from sklearn.preprocessing import LabelEncoder\n",
    "from sklearn.model_selection import StratifiedKFold\n",
    "from sklearn.preprocessing import StandardScaler\n",
    "from sklearn.pipeline import Pipeline\n",
    "from keras.models import Sequential\n",
    "from keras.layers import Dense\n",
    "from keras.wrappers.scikit_learn import KerasClassifier\n",
    "from sklearn.model_selection import cross_val_score\n",
    "from sklearn.model_selection import train_test_split\n",
    "import keras\n",
    "import itertools\n",
    "from keras.models import model_from_json\n",
    "import os"
   ]
  },
  {
   "cell_type": "code",
   "execution_count": 2,
   "metadata": {
    "pycharm": {
     "name": "#%%\n"
    }
   },
   "outputs": [
    {
     "name": "stdout",
     "output_type": "stream",
     "text": [
      "(63848, 256) (10658, 256) (63848,) (10658,)\n"
     ]
    }
   ],
   "source": [
    "X_train, X_test, y_train, y_test = \\\n",
    "    np.loadtxt('X_train.txt'), np.loadtxt('X_test.txt'), np.loadtxt('y_train.txt'), np.loadtxt('y_test.txt')\n",
    "y_test = y_test.astype(np.int)\n",
    "y_train = y_train.astype(np.int)\n",
    "print(X_train.shape, X_test.shape, y_train.shape, y_test.shape)"
   ]
  },
  {
   "cell_type": "code",
   "execution_count": 3,
   "metadata": {},
   "outputs": [
    {
     "name": "stdout",
     "output_type": "stream",
     "text": [
      "(54270, 256) (9578, 256) (54270,) (9578,)\n"
     ]
    }
   ],
   "source": [
    "X_train, X_val, y_train, y_val = train_test_split(X_train, y_train, test_size=0.15, random_state=1)\n",
    "print(X_train.shape, X_val.shape, y_train.shape, y_val.shape)"
   ]
  },
  {
   "cell_type": "code",
   "execution_count": 4,
   "metadata": {},
   "outputs": [
    {
     "name": "stdout",
     "output_type": "stream",
     "text": [
      "Model: \"sequential_1\"\n",
      "_________________________________________________________________\n",
      "Layer (type)                 Output Shape              Param #   \n",
      "=================================================================\n",
      "dense_1 (Dense)              (None, 64)                16448     \n",
      "_________________________________________________________________\n",
      "dense_2 (Dense)              (None, 128)               8320      \n",
      "_________________________________________________________________\n",
      "dense_3 (Dense)              (None, 256)               33024     \n",
      "_________________________________________________________________\n",
      "dense_4 (Dense)              (None, 64)                16448     \n",
      "_________________________________________________________________\n",
      "dense_5 (Dense)              (None, 1)                 65        \n",
      "=================================================================\n",
      "Total params: 74,305\n",
      "Trainable params: 74,305\n",
      "Non-trainable params: 0\n",
      "_________________________________________________________________\n"
     ]
    }
   ],
   "source": [
    "model_name = 'model_acc_deeper'\n",
    "model = Sequential()\n",
    "model.add(Dense(64, input_dim=256, activation='relu'))\n",
    "model.add(Dense(128, activation='relu'))\n",
    "model.add(Dense(256, activation='relu'))\n",
    "model.add(Dense(64, activation='relu'))\n",
    "model.add(Dense(1, activation='sigmoid'))\n",
    "model.compile(loss='binary_crossentropy', optimizer='adam', metrics=['accuracy'])\n",
    "# model.compile(loss='binary_crossentropy', optimizer='adam', metrics=[keras.metrics.AUC()])\n",
    "# model.compile(loss='binary_crossentropy', optimizer='adam', metrics=[keras.metrics.FalsePositives()])\n",
    "model.summary()"
   ]
  },
  {
   "cell_type": "code",
   "execution_count": 13,
   "metadata": {},
   "outputs": [
    {
     "data": {
      "image/png": "[encoded data removed]",
      "text/plain": [
       "<IPython.core.display.Image object>"
      ]
     },
     "execution_count": 13,
     "metadata": {},
     "output_type": "execute_result"
    }
   ],
   "source": [
    "keras.utils.plot_model(\n",
    "    model,\n",
    "    to_file=\"model.png\",\n",
    "    show_shapes=True,\n",
    "    show_layer_names=False,\n",
    "    rankdir=\"LR\",\n",
    "    expand_nested=True,\n",
    "    dpi=96,\n",
    ")"
   ]
  },
  {
   "cell_type": "code",
   "execution_count": 5,
   "metadata": {},
   "outputs": [
    {
     "name": "stdout",
     "output_type": "stream",
     "text": [
      "Train on 54270 samples, validate on 9578 samples\n",
      "Epoch 1/200\n",
      "54270/54270 [==============================] - 4s 66us/step - loss: 0.4589 - accuracy: 0.7833 - val_loss: 0.4116 - val_accuracy: 0.8185\n",
      "Epoch 2/200\n",
      "54270/54270 [==============================] - 3s 52us/step - loss: 0.3931 - accuracy: 0.8263 - val_loss: 0.3698 - val_accuracy: 0.8433\n",
      "Epoch 3/200\n",
      "54270/54270 [==============================] - 3s 52us/step - loss: 0.3685 - accuracy: 0.8391 - val_loss: 0.3531 - val_accuracy: 0.8481\n",
      "Epoch 4/200\n",
      "54270/54270 [==============================] - 3s 51us/step - loss: 0.3601 - accuracy: 0.8430 - val_loss: 0.3501 - val_accuracy: 0.8476\n",
      "Epoch 5/200\n",
      "54270/54270 [==============================] - 3s 53us/step - loss: 0.3528 - accuracy: 0.8478 - val_loss: 0.3427 - val_accuracy: 0.8523\n",
      "Epoch 6/200\n",
      "54270/54270 [==============================] - 3s 55us/step - loss: 0.3513 - accuracy: 0.8476 - val_loss: 0.3486 - val_accuracy: 0.8496\n",
      "Epoch 7/200\n",
      "54270/54270 [==============================] - 3s 54us/step - loss: 0.3467 - accuracy: 0.8497 - val_loss: 0.3401 - val_accuracy: 0.8545\n",
      "Epoch 8/200\n",
      "54270/54270 [==============================] - 3s 55us/step - loss: 0.3412 - accuracy: 0.8528 - val_loss: 0.3529 - val_accuracy: 0.8473\n",
      "Epoch 9/200\n",
      "54270/54270 [==============================] - 3s 54us/step - loss: 0.3363 - accuracy: 0.8537 - val_loss: 0.3353 - val_accuracy: 0.8555\n",
      "Epoch 10/200\n",
      "54270/54270 [==============================] - 3s 55us/step - loss: 0.3284 - accuracy: 0.8577 - val_loss: 0.3202 - val_accuracy: 0.8599\n",
      "Epoch 11/200\n",
      "54270/54270 [==============================] - 3s 55us/step - loss: 0.3259 - accuracy: 0.8590 - val_loss: 0.3499 - val_accuracy: 0.8463\n",
      "Epoch 12/200\n",
      "54270/54270 [==============================] - 3s 55us/step - loss: 0.3195 - accuracy: 0.8619 - val_loss: 0.3101 - val_accuracy: 0.8708\n",
      "Epoch 13/200\n",
      "54270/54270 [==============================] - 3s 55us/step - loss: 0.3136 - accuracy: 0.8661 - val_loss: 0.3218 - val_accuracy: 0.8633\n",
      "Epoch 14/200\n",
      "54270/54270 [==============================] - 3s 56us/step - loss: 0.3106 - accuracy: 0.8680 - val_loss: 0.4091 - val_accuracy: 0.8168\n",
      "Epoch 15/200\n",
      "54270/54270 [==============================] - 3s 54us/step - loss: 0.3087 - accuracy: 0.8689 - val_loss: 0.2976 - val_accuracy: 0.8754\n",
      "Epoch 16/200\n",
      "54270/54270 [==============================] - 3s 55us/step - loss: 0.3044 - accuracy: 0.8706 - val_loss: 0.3326 - val_accuracy: 0.8585\n",
      "Epoch 17/200\n",
      "54270/54270 [==============================] - 3s 54us/step - loss: 0.3001 - accuracy: 0.8739 - val_loss: 0.3283 - val_accuracy: 0.8639\n",
      "Epoch 18/200\n",
      "54270/54270 [==============================] - 3s 54us/step - loss: 0.2978 - accuracy: 0.8747 - val_loss: 0.2958 - val_accuracy: 0.8775\n",
      "Epoch 19/200\n",
      "54270/54270 [==============================] - 3s 54us/step - loss: 0.2966 - accuracy: 0.8742 - val_loss: 0.2957 - val_accuracy: 0.8751\n",
      "Epoch 20/200\n",
      "54270/54270 [==============================] - 3s 55us/step - loss: 0.2946 - accuracy: 0.8763 - val_loss: 0.3205 - val_accuracy: 0.8632\n",
      "Epoch 21/200\n",
      "54270/54270 [==============================] - 3s 55us/step - loss: 0.2930 - accuracy: 0.8776 - val_loss: 0.2927 - val_accuracy: 0.8754\n",
      "Epoch 22/200\n",
      "54270/54270 [==============================] - 3s 54us/step - loss: 0.2902 - accuracy: 0.8792 - val_loss: 0.3224 - val_accuracy: 0.8613\n",
      "Epoch 23/200\n",
      "54270/54270 [==============================] - 3s 56us/step - loss: 0.2895 - accuracy: 0.8788 - val_loss: 0.2883 - val_accuracy: 0.8795\n",
      "Epoch 24/200\n",
      "54270/54270 [==============================] - 3s 56us/step - loss: 0.2867 - accuracy: 0.8798 - val_loss: 0.3071 - val_accuracy: 0.8673\n",
      "Epoch 25/200\n",
      "54270/54270 [==============================] - 3s 55us/step - loss: 0.2882 - accuracy: 0.8788 - val_loss: 0.3010 - val_accuracy: 0.8747\n",
      "Epoch 26/200\n",
      "54270/54270 [==============================] - 3s 55us/step - loss: 0.2836 - accuracy: 0.8821 - val_loss: 0.2889 - val_accuracy: 0.8790\n",
      "Epoch 27/200\n",
      "54270/54270 [==============================] - 3s 55us/step - loss: 0.2812 - accuracy: 0.8829 - val_loss: 0.2923 - val_accuracy: 0.8791\n",
      "Epoch 28/200\n",
      "54270/54270 [==============================] - 3s 55us/step - loss: 0.2798 - accuracy: 0.8829 - val_loss: 0.2883 - val_accuracy: 0.8819\n",
      "Epoch 29/200\n",
      "54270/54270 [==============================] - 3s 54us/step - loss: 0.2784 - accuracy: 0.8848 - val_loss: 0.2918 - val_accuracy: 0.8811\n",
      "Epoch 30/200\n",
      "54270/54270 [==============================] - 3s 55us/step - loss: 0.2791 - accuracy: 0.8830 - val_loss: 0.3030 - val_accuracy: 0.8740\n",
      "Epoch 31/200\n",
      "54270/54270 [==============================] - 3s 55us/step - loss: 0.2757 - accuracy: 0.8852 - val_loss: 0.2859 - val_accuracy: 0.8814\n",
      "Epoch 32/200\n",
      "54270/54270 [==============================] - 3s 55us/step - loss: 0.2734 - accuracy: 0.8861 - val_loss: 0.2884 - val_accuracy: 0.8824\n",
      "Epoch 33/200\n",
      "54270/54270 [==============================] - 3s 55us/step - loss: 0.2699 - accuracy: 0.8884 - val_loss: 0.2894 - val_accuracy: 0.8781\n",
      "Epoch 34/200\n",
      "54270/54270 [==============================] - 3s 55us/step - loss: 0.2715 - accuracy: 0.8867 - val_loss: 0.2812 - val_accuracy: 0.8838\n",
      "Epoch 35/200\n",
      "54270/54270 [==============================] - 3s 55us/step - loss: 0.2697 - accuracy: 0.8880 - val_loss: 0.2872 - val_accuracy: 0.8832\n",
      "Epoch 36/200\n",
      "54270/54270 [==============================] - 3s 57us/step - loss: 0.2686 - accuracy: 0.8884 - val_loss: 0.2701 - val_accuracy: 0.8885\n",
      "Epoch 37/200\n",
      "54270/54270 [==============================] - 3s 58us/step - loss: 0.2673 - accuracy: 0.8894 - val_loss: 0.2865 - val_accuracy: 0.8801\n",
      "Epoch 38/200\n",
      "54270/54270 [==============================] - 3s 56us/step - loss: 0.2660 - accuracy: 0.8894 - val_loss: 0.2740 - val_accuracy: 0.8860\n",
      "Epoch 39/200\n",
      "54270/54270 [==============================] - 3s 55us/step - loss: 0.2641 - accuracy: 0.8903 - val_loss: 0.2698 - val_accuracy: 0.8869\n",
      "Epoch 40/200\n",
      "54270/54270 [==============================] - 3s 55us/step - loss: 0.2632 - accuracy: 0.8900 - val_loss: 0.2763 - val_accuracy: 0.8868\n",
      "Epoch 41/200\n",
      "54270/54270 [==============================] - 3s 56us/step - loss: 0.2611 - accuracy: 0.8921 - val_loss: 0.2872 - val_accuracy: 0.8750\n",
      "Epoch 42/200\n",
      "54270/54270 [==============================] - 3s 56us/step - loss: 0.2601 - accuracy: 0.8925 - val_loss: 0.2626 - val_accuracy: 0.8933\n",
      "Epoch 43/200\n",
      "54270/54270 [==============================] - 3s 56us/step - loss: 0.2589 - accuracy: 0.8927 - val_loss: 0.2624 - val_accuracy: 0.8899\n",
      "Epoch 44/200\n",
      "54270/54270 [==============================] - 3s 56us/step - loss: 0.2557 - accuracy: 0.8944 - val_loss: 0.2773 - val_accuracy: 0.8850\n",
      "Epoch 45/200\n",
      "54270/54270 [==============================] - 3s 56us/step - loss: 0.2544 - accuracy: 0.8945 - val_loss: 0.2767 - val_accuracy: 0.8864\n",
      "Epoch 46/200\n",
      "54270/54270 [==============================] - 3s 57us/step - loss: 0.2560 - accuracy: 0.8949 - val_loss: 0.2730 - val_accuracy: 0.8892\n",
      "Epoch 47/200\n",
      "54270/54270 [==============================] - 3s 55us/step - loss: 0.2523 - accuracy: 0.8964 - val_loss: 0.2687 - val_accuracy: 0.8887\n",
      "Epoch 48/200\n",
      "54270/54270 [==============================] - 3s 57us/step - loss: 0.2508 - accuracy: 0.8966 - val_loss: 0.2824 - val_accuracy: 0.8834\n",
      "Epoch 49/200\n",
      "54270/54270 [==============================] - 3s 56us/step - loss: 0.2498 - accuracy: 0.8962 - val_loss: 0.2905 - val_accuracy: 0.8788\n",
      "Epoch 50/200\n",
      "54270/54270 [==============================] - 3s 55us/step - loss: 0.2491 - accuracy: 0.8972 - val_loss: 0.2621 - val_accuracy: 0.8905\n",
      "Epoch 51/200\n",
      "54270/54270 [==============================] - 3s 56us/step - loss: 0.2475 - accuracy: 0.8980 - val_loss: 0.2561 - val_accuracy: 0.8949\n",
      "Epoch 52/200\n",
      "54270/54270 [==============================] - 3s 55us/step - loss: 0.2445 - accuracy: 0.8994 - val_loss: 0.2598 - val_accuracy: 0.8957\n",
      "Epoch 53/200\n",
      "54270/54270 [==============================] - 3s 55us/step - loss: 0.2434 - accuracy: 0.8998 - val_loss: 0.2737 - val_accuracy: 0.8872\n",
      "Epoch 54/200\n",
      "54270/54270 [==============================] - 3s 56us/step - loss: 0.2460 - accuracy: 0.8986 - val_loss: 0.2582 - val_accuracy: 0.8919\n",
      "Epoch 55/200\n",
      "54270/54270 [==============================] - 3s 55us/step - loss: 0.2438 - accuracy: 0.9001 - val_loss: 0.2560 - val_accuracy: 0.8964\n"
     ]
    },
    {
     "name": "stdout",
     "output_type": "stream",
     "text": [
      "Epoch 56/200\n",
      "54270/54270 [==============================] - 3s 54us/step - loss: 0.2419 - accuracy: 0.9019 - val_loss: 0.2596 - val_accuracy: 0.8927\n",
      "Epoch 57/200\n",
      "54270/54270 [==============================] - 3s 53us/step - loss: 0.2376 - accuracy: 0.9035 - val_loss: 0.2592 - val_accuracy: 0.8919\n",
      "Epoch 58/200\n",
      "54270/54270 [==============================] - 3s 54us/step - loss: 0.2395 - accuracy: 0.9021 - val_loss: 0.2585 - val_accuracy: 0.8946\n",
      "Epoch 59/200\n",
      "54270/54270 [==============================] - 3s 53us/step - loss: 0.2382 - accuracy: 0.9025 - val_loss: 0.2512 - val_accuracy: 0.8958\n",
      "Epoch 60/200\n",
      "54270/54270 [==============================] - 3s 55us/step - loss: 0.2359 - accuracy: 0.9038 - val_loss: 0.2629 - val_accuracy: 0.8917\n",
      "Epoch 61/200\n",
      "54270/54270 [==============================] - 3s 55us/step - loss: 0.2343 - accuracy: 0.9047 - val_loss: 0.2558 - val_accuracy: 0.8949\n",
      "Epoch 62/200\n",
      "54270/54270 [==============================] - 3s 55us/step - loss: 0.2323 - accuracy: 0.9057 - val_loss: 0.2574 - val_accuracy: 0.8912\n",
      "Epoch 63/200\n",
      "54270/54270 [==============================] - 3s 55us/step - loss: 0.2331 - accuracy: 0.9043 - val_loss: 0.2483 - val_accuracy: 0.8976\n",
      "Epoch 64/200\n",
      "54270/54270 [==============================] - 3s 56us/step - loss: 0.2326 - accuracy: 0.9052 - val_loss: 0.2437 - val_accuracy: 0.8992\n",
      "Epoch 65/200\n",
      "54270/54270 [==============================] - 3s 55us/step - loss: 0.2316 - accuracy: 0.9059 - val_loss: 0.2570 - val_accuracy: 0.8934\n",
      "Epoch 66/200\n",
      "54270/54270 [==============================] - 3s 55us/step - loss: 0.2288 - accuracy: 0.9071 - val_loss: 0.2512 - val_accuracy: 0.8965\n",
      "Epoch 67/200\n",
      "54270/54270 [==============================] - 3s 55us/step - loss: 0.2270 - accuracy: 0.9075 - val_loss: 0.2480 - val_accuracy: 0.8998\n",
      "Epoch 68/200\n",
      "54270/54270 [==============================] - 3s 55us/step - loss: 0.2294 - accuracy: 0.9076 - val_loss: 0.2453 - val_accuracy: 0.9006\n",
      "Epoch 69/200\n",
      "54270/54270 [==============================] - 3s 55us/step - loss: 0.2259 - accuracy: 0.9093 - val_loss: 0.2562 - val_accuracy: 0.8975\n",
      "Epoch 70/200\n",
      "54270/54270 [==============================] - 3s 55us/step - loss: 0.2246 - accuracy: 0.9096 - val_loss: 0.2387 - val_accuracy: 0.9030\n",
      "Epoch 71/200\n",
      "54270/54270 [==============================] - 3s 56us/step - loss: 0.2242 - accuracy: 0.9086 - val_loss: 0.2465 - val_accuracy: 0.8996\n",
      "Epoch 72/200\n",
      "54270/54270 [==============================] - 3s 57us/step - loss: 0.2219 - accuracy: 0.9101 - val_loss: 0.2497 - val_accuracy: 0.8995\n",
      "Epoch 73/200\n",
      "54270/54270 [==============================] - 3s 56us/step - loss: 0.2231 - accuracy: 0.9095 - val_loss: 0.2615 - val_accuracy: 0.8920\n",
      "Epoch 74/200\n",
      "54270/54270 [==============================] - 3s 56us/step - loss: 0.2199 - accuracy: 0.9117 - val_loss: 0.2720 - val_accuracy: 0.8853\n",
      "Epoch 75/200\n",
      "54270/54270 [==============================] - 3s 56us/step - loss: 0.2206 - accuracy: 0.9109 - val_loss: 0.2539 - val_accuracy: 0.8974\n",
      "Epoch 76/200\n",
      "54270/54270 [==============================] - 3s 57us/step - loss: 0.2203 - accuracy: 0.9110 - val_loss: 0.2606 - val_accuracy: 0.8962\n",
      "Epoch 77/200\n",
      "54270/54270 [==============================] - 3s 57us/step - loss: 0.2208 - accuracy: 0.9106 - val_loss: 0.2551 - val_accuracy: 0.8962\n",
      "Epoch 78/200\n",
      "54270/54270 [==============================] - 3s 56us/step - loss: 0.2163 - accuracy: 0.9139 - val_loss: 0.2404 - val_accuracy: 0.9008\n",
      "Epoch 79/200\n",
      "54270/54270 [==============================] - 3s 56us/step - loss: 0.2188 - accuracy: 0.9102 - val_loss: 0.2324 - val_accuracy: 0.9091\n",
      "Epoch 80/200\n",
      "54270/54270 [==============================] - 3s 56us/step - loss: 0.2157 - accuracy: 0.9135 - val_loss: 0.2281 - val_accuracy: 0.9100\n",
      "Epoch 81/200\n",
      "54270/54270 [==============================] - 3s 55us/step - loss: 0.2132 - accuracy: 0.9144 - val_loss: 0.2513 - val_accuracy: 0.8973\n",
      "Epoch 82/200\n",
      "54270/54270 [==============================] - 3s 55us/step - loss: 0.2130 - accuracy: 0.9141 - val_loss: 0.2418 - val_accuracy: 0.8983\n",
      "Epoch 83/200\n",
      "54270/54270 [==============================] - 3s 56us/step - loss: 0.2126 - accuracy: 0.9147 - val_loss: 0.2409 - val_accuracy: 0.9010\n",
      "Epoch 84/200\n",
      "54270/54270 [==============================] - 3s 55us/step - loss: 0.2116 - accuracy: 0.9161 - val_loss: 0.2567 - val_accuracy: 0.9000\n",
      "Epoch 85/200\n",
      "54270/54270 [==============================] - 3s 55us/step - loss: 0.2100 - accuracy: 0.9156 - val_loss: 0.2418 - val_accuracy: 0.9048\n",
      "Epoch 86/200\n",
      "54270/54270 [==============================] - 3s 55us/step - loss: 0.2095 - accuracy: 0.9161 - val_loss: 0.2354 - val_accuracy: 0.9065\n",
      "Epoch 87/200\n",
      "54270/54270 [==============================] - 3s 56us/step - loss: 0.2069 - accuracy: 0.9174 - val_loss: 0.2274 - val_accuracy: 0.9107\n",
      "Epoch 88/200\n",
      "54270/54270 [==============================] - 3s 55us/step - loss: 0.2081 - accuracy: 0.9168 - val_loss: 0.2384 - val_accuracy: 0.9042\n",
      "Epoch 89/200\n",
      "54270/54270 [==============================] - 3s 55us/step - loss: 0.2046 - accuracy: 0.9170 - val_loss: 0.2312 - val_accuracy: 0.9055\n",
      "Epoch 90/200\n",
      "54270/54270 [==============================] - 3s 55us/step - loss: 0.2029 - accuracy: 0.9199 - val_loss: 0.2353 - val_accuracy: 0.9077\n",
      "Epoch 91/200\n",
      "54270/54270 [==============================] - 3s 55us/step - loss: 0.2004 - accuracy: 0.9205 - val_loss: 0.2408 - val_accuracy: 0.9034\n",
      "Epoch 92/200\n",
      "54270/54270 [==============================] - 3s 56us/step - loss: 0.2056 - accuracy: 0.9185 - val_loss: 0.2323 - val_accuracy: 0.9087\n",
      "Epoch 93/200\n",
      "54270/54270 [==============================] - 3s 55us/step - loss: 0.2050 - accuracy: 0.9170 - val_loss: 0.2234 - val_accuracy: 0.9081\n",
      "Epoch 94/200\n",
      "54270/54270 [==============================] - 3s 56us/step - loss: 0.1983 - accuracy: 0.9209 - val_loss: 0.2208 - val_accuracy: 0.9131\n",
      "Epoch 95/200\n",
      "54270/54270 [==============================] - 3s 55us/step - loss: 0.1996 - accuracy: 0.9211 - val_loss: 0.2244 - val_accuracy: 0.9098\n",
      "Epoch 96/200\n",
      "54270/54270 [==============================] - 3s 56us/step - loss: 0.1980 - accuracy: 0.9220 - val_loss: 0.2230 - val_accuracy: 0.9104\n",
      "Epoch 97/200\n",
      "54270/54270 [==============================] - 3s 55us/step - loss: 0.1991 - accuracy: 0.9207 - val_loss: 0.2351 - val_accuracy: 0.9075\n",
      "Epoch 98/200\n",
      "54270/54270 [==============================] - 3s 56us/step - loss: 0.1940 - accuracy: 0.9224 - val_loss: 0.2380 - val_accuracy: 0.9061\n",
      "Epoch 99/200\n",
      "54270/54270 [==============================] - 3s 55us/step - loss: 0.1956 - accuracy: 0.9226 - val_loss: 0.2404 - val_accuracy: 0.9036\n",
      "Epoch 100/200\n",
      "54270/54270 [==============================] - 3s 56us/step - loss: 0.1964 - accuracy: 0.9228 - val_loss: 0.2334 - val_accuracy: 0.9063\n",
      "Epoch 101/200\n",
      "54270/54270 [==============================] - 3s 56us/step - loss: 0.1909 - accuracy: 0.9243 - val_loss: 0.2339 - val_accuracy: 0.9060\n",
      "Epoch 102/200\n",
      "54270/54270 [==============================] - 3s 55us/step - loss: 0.1960 - accuracy: 0.9229 - val_loss: 0.2322 - val_accuracy: 0.9104\n",
      "Epoch 103/200\n",
      "54270/54270 [==============================] - 3s 56us/step - loss: 0.1933 - accuracy: 0.9227 - val_loss: 0.2356 - val_accuracy: 0.9093\n",
      "Epoch 104/200\n",
      "54270/54270 [==============================] - 3s 56us/step - loss: 0.1907 - accuracy: 0.9247 - val_loss: 0.2201 - val_accuracy: 0.9137\n",
      "Epoch 105/200\n",
      "54270/54270 [==============================] - 3s 56us/step - loss: 0.1905 - accuracy: 0.9248 - val_loss: 0.2213 - val_accuracy: 0.9123\n",
      "Epoch 106/200\n",
      "54270/54270 [==============================] - 3s 55us/step - loss: 0.1887 - accuracy: 0.9260 - val_loss: 0.2169 - val_accuracy: 0.9142\n",
      "Epoch 107/200\n",
      "54270/54270 [==============================] - 3s 55us/step - loss: 0.1905 - accuracy: 0.9234 - val_loss: 0.2354 - val_accuracy: 0.9078\n",
      "Epoch 108/200\n",
      "54270/54270 [==============================] - 3s 57us/step - loss: 0.1879 - accuracy: 0.9256 - val_loss: 0.2349 - val_accuracy: 0.9065\n",
      "Epoch 109/200\n",
      "54270/54270 [==============================] - 3s 55us/step - loss: 0.1872 - accuracy: 0.9259 - val_loss: 0.2418 - val_accuracy: 0.9020\n",
      "Epoch 110/200\n",
      "54270/54270 [==============================] - 3s 56us/step - loss: 0.1837 - accuracy: 0.9269 - val_loss: 0.2484 - val_accuracy: 0.9030\n"
     ]
    },
    {
     "name": "stdout",
     "output_type": "stream",
     "text": [
      "Epoch 111/200\n",
      "54270/54270 [==============================] - 3s 54us/step - loss: 0.1846 - accuracy: 0.9268 - val_loss: 0.2219 - val_accuracy: 0.9129\n",
      "Epoch 112/200\n",
      "54270/54270 [==============================] - 3s 54us/step - loss: 0.1845 - accuracy: 0.9272 - val_loss: 0.2368 - val_accuracy: 0.9078\n",
      "Epoch 113/200\n",
      "54270/54270 [==============================] - 3s 54us/step - loss: 0.1826 - accuracy: 0.9279 - val_loss: 0.2306 - val_accuracy: 0.9101\n",
      "Epoch 114/200\n",
      "54270/54270 [==============================] - 3s 54us/step - loss: 0.1840 - accuracy: 0.9268 - val_loss: 0.2150 - val_accuracy: 0.9169\n",
      "Epoch 115/200\n",
      "54270/54270 [==============================] - 3s 53us/step - loss: 0.1803 - accuracy: 0.9285 - val_loss: 0.2166 - val_accuracy: 0.9156\n",
      "Epoch 116/200\n",
      "54270/54270 [==============================] - 3s 54us/step - loss: 0.1827 - accuracy: 0.9278 - val_loss: 0.2241 - val_accuracy: 0.9110\n",
      "Epoch 117/200\n",
      "54270/54270 [==============================] - 3s 53us/step - loss: 0.1789 - accuracy: 0.9305 - val_loss: 0.2142 - val_accuracy: 0.9168\n",
      "Epoch 118/200\n",
      "54270/54270 [==============================] - 3s 54us/step - loss: 0.1790 - accuracy: 0.9293 - val_loss: 0.2079 - val_accuracy: 0.9174\n",
      "Epoch 119/200\n",
      "54270/54270 [==============================] - 3s 53us/step - loss: 0.1771 - accuracy: 0.9302 - val_loss: 0.2245 - val_accuracy: 0.9164\n",
      "Epoch 120/200\n",
      "54270/54270 [==============================] - 3s 54us/step - loss: 0.1760 - accuracy: 0.9312 - val_loss: 0.2141 - val_accuracy: 0.9166\n",
      "Epoch 121/200\n",
      "54270/54270 [==============================] - 3s 53us/step - loss: 0.1773 - accuracy: 0.9298 - val_loss: 0.2203 - val_accuracy: 0.9139\n",
      "Epoch 122/200\n",
      "54270/54270 [==============================] - 3s 54us/step - loss: 0.1764 - accuracy: 0.9312 - val_loss: 0.2088 - val_accuracy: 0.9190\n",
      "Epoch 123/200\n",
      "54270/54270 [==============================] - 3s 54us/step - loss: 0.1746 - accuracy: 0.9310 - val_loss: 0.2259 - val_accuracy: 0.9116\n",
      "Epoch 124/200\n",
      "54270/54270 [==============================] - 3s 54us/step - loss: 0.1730 - accuracy: 0.9323 - val_loss: 0.2210 - val_accuracy: 0.9154\n",
      "Epoch 125/200\n",
      "54270/54270 [==============================] - 3s 54us/step - loss: 0.1730 - accuracy: 0.9322 - val_loss: 0.2116 - val_accuracy: 0.9194\n",
      "Epoch 126/200\n",
      "54270/54270 [==============================] - 3s 54us/step - loss: 0.1706 - accuracy: 0.9321 - val_loss: 0.2233 - val_accuracy: 0.9146\n",
      "Epoch 127/200\n",
      "54270/54270 [==============================] - 3s 54us/step - loss: 0.1720 - accuracy: 0.9322 - val_loss: 0.2072 - val_accuracy: 0.9192\n",
      "Epoch 128/200\n",
      "54270/54270 [==============================] - 3s 54us/step - loss: 0.1711 - accuracy: 0.9324 - val_loss: 0.2199 - val_accuracy: 0.9113\n",
      "Epoch 129/200\n",
      "54270/54270 [==============================] - 3s 57us/step - loss: 0.1694 - accuracy: 0.9341 - val_loss: 0.2050 - val_accuracy: 0.9201\n",
      "Epoch 130/200\n",
      "54270/54270 [==============================] - 3s 57us/step - loss: 0.1673 - accuracy: 0.9348 - val_loss: 0.2258 - val_accuracy: 0.9124\n",
      "Epoch 131/200\n",
      "54270/54270 [==============================] - 3s 57us/step - loss: 0.1687 - accuracy: 0.9339 - val_loss: 0.2169 - val_accuracy: 0.9177\n",
      "Epoch 132/200\n",
      "54270/54270 [==============================] - 3s 60us/step - loss: 0.1651 - accuracy: 0.9358 - val_loss: 0.2139 - val_accuracy: 0.9165\n",
      "Epoch 133/200\n",
      "54270/54270 [==============================] - 3s 54us/step - loss: 0.1692 - accuracy: 0.9339 - val_loss: 0.2290 - val_accuracy: 0.9114\n",
      "Epoch 134/200\n",
      "54270/54270 [==============================] - 3s 57us/step - loss: 0.1679 - accuracy: 0.9333 - val_loss: 0.2200 - val_accuracy: 0.9163\n",
      "Epoch 135/200\n",
      "54270/54270 [==============================] - 3s 55us/step - loss: 0.1650 - accuracy: 0.9362 - val_loss: 0.2203 - val_accuracy: 0.9138\n",
      "Epoch 136/200\n",
      "54270/54270 [==============================] - 3s 55us/step - loss: 0.1655 - accuracy: 0.9356 - val_loss: 0.2150 - val_accuracy: 0.9152\n",
      "Epoch 137/200\n",
      "54270/54270 [==============================] - 3s 56us/step - loss: 0.1649 - accuracy: 0.9357 - val_loss: 0.2117 - val_accuracy: 0.9180\n",
      "Epoch 138/200\n",
      "54270/54270 [==============================] - 3s 55us/step - loss: 0.1636 - accuracy: 0.9370 - val_loss: 0.2095 - val_accuracy: 0.9192\n",
      "Epoch 139/200\n",
      "54270/54270 [==============================] - 3s 56us/step - loss: 0.1663 - accuracy: 0.9346 - val_loss: 0.2120 - val_accuracy: 0.9209\n"
     ]
    }
   ],
   "source": [
    "es = [\n",
    "    keras.callbacks.EarlyStopping(monitor=\"val_loss\", patience=10),\n",
    "    keras.callbacks.ModelCheckpoint('{}.h5'.format(model_name), save_best_only=True, monitor='val_loss', mode='min')\n",
    "]\n",
    "history = model.fit(\n",
    "    X_train,\n",
    "    y_train,\n",
    "    batch_size=64,\n",
    "    epochs=200,\n",
    "    validation_data=(X_val, y_val),\n",
    "    callbacks=es\n",
    ")\n",
    "\n",
    "model_json = model.to_json()\n",
    "with open(\"{}.json\".format(model_name), \"w\") as json_file:\n",
    "    json_file.write(model_json)"
   ]
  },
  {
   "cell_type": "code",
   "execution_count": 8,
   "metadata": {},
   "outputs": [
    {
     "data": {
      "image/png": "[encoded data removed]",
      "text/plain": [
       "<Figure size 432x288 with 1 Axes>"
      ]
     },
     "metadata": {
      "needs_background": "light"
     },
     "output_type": "display_data"
    }
   ],
   "source": [
    "plt.plot(history.history['accuracy'])\n",
    "plt.plot(history.history['val_accuracy'])\n",
    "plt.title('train history')\n",
    "plt.ylabel('acc')\n",
    "plt.xlabel('epoch')\n",
    "plt.legend(['train', 'val'], loc='upper left')\n",
    "plt.show()"
   ]
  },
  {
   "cell_type": "code",
   "execution_count": 5,
   "metadata": {},
   "outputs": [],
   "source": [
    "def plot_confusion_matrix(cm, classes,\n",
    "                        normalize=False,\n",
    "                        title='Confusion matrix',\n",
    "                        cmap=plt.cm.Blues):\n",
    "    \"\"\"\n",
    "    This function prints and plots the confusion matrix.\n",
    "    Normalization can be applied by setting `normalize=True`.\n",
    "    \"\"\"\n",
    "    plt.imshow(cm, interpolation='nearest', cmap=cmap)\n",
    "    plt.title(title)\n",
    "    plt.colorbar()\n",
    "    tick_marks = np.arange(len(classes))\n",
    "    plt.xticks(tick_marks, classes, rotation=45)\n",
    "    plt.yticks(tick_marks, classes)\n",
    "\n",
    "    if normalize:\n",
    "        cm = cm.astype('float') / cm.sum(axis=1)[:, np.newaxis]\n",
    "        print(\"Normalized confusion matrix\")\n",
    "    else:\n",
    "        print('Confusion matrix, without normalization')\n",
    "\n",
    "    print(cm)\n",
    "\n",
    "    thresh = cm.max() / 2.\n",
    "    for i, j in itertools.product(range(cm.shape[0]), range(cm.shape[1])):\n",
    "        plt.text(j, i, '{:.2f}'.format(cm[i, j]),\n",
    "            horizontalalignment=\"center\",\n",
    "            color=\"white\" if cm[i, j] > thresh else \"black\")\n",
    "\n",
    "    plt.tight_layout()\n",
    "    plt.ylabel('True label')\n",
    "    plt.xlabel('Predicted label')"
   ]
  },
  {
   "cell_type": "code",
   "execution_count": 10,
   "metadata": {},
   "outputs": [
    {
     "name": "stdout",
     "output_type": "stream",
     "text": [
      "(10658,)\n"
     ]
    }
   ],
   "source": [
    "y_pred = model.predict(X_test)\n",
    "y_pred = y_pred.flatten()\n",
    "print(y_pred.shape)"
   ]
  },
  {
   "cell_type": "code",
   "execution_count": 11,
   "metadata": {},
   "outputs": [],
   "source": [
    "y_pred[y_pred >= 0.5] = 1\n",
    "y_pred[y_pred < 0.5] = 0"
   ]
  },
  {
   "cell_type": "code",
   "execution_count": 12,
   "metadata": {},
   "outputs": [
    {
     "name": "stdout",
     "output_type": "stream",
     "text": [
      "Normalized confusion matrix\n",
      "[[0.79714768 0.20285232]\n",
      " [0.10489773 0.89510227]]\n"
     ]
    },
    {
     "data": {
      "image/png": "[encoded data removed]",
      "text/plain": [
       "<Figure size 432x288 with 2 Axes>"
      ]
     },
     "metadata": {
      "needs_background": "light"
     },
     "output_type": "display_data"
    }
   ],
   "source": [
    "cm = confusion_matrix(y_test, y_pred)\n",
    "plot_confusion_matrix(cm, [0, 1], normalize=True)"
   ]
  },
  {
   "cell_type": "code",
   "execution_count": 13,
   "metadata": {},
   "outputs": [],
   "source": [
    "model_json = model.to_json()\n",
    "with open(\"{}.json\".format(model_name), \"w\") as json_file:\n",
    "    json_file.write(model_json)\n",
    "# model.save_weights(\"model_deeper_pn.h5\")\n",
    "# print(\"Saved model to disk\")"
   ]
  },
  {
   "cell_type": "code",
   "execution_count": null,
   "outputs": [],
   "source": [
    "keras_model_name = 'model_auc'\n",
    "json_file = open('{}.json'.format(keras_model_name), 'r')\n",
    "loaded_model_json = json_file.read()\n",
    "json_file.close()\n",
    "model = model_from_json(loaded_model_json)\n",
    "model.load_weights(\"{}.h5\".format(keras_model_name))\n",
    "print(\"Loaded model from disk\")\n",
    "model.compile(loss='binary_crossentropy', optimizer='adam', metrics=[keras.metrics.FalsePositives()])"
   ],
   "metadata": {
    "collapsed": false,
    "pycharm": {
     "name": "#%%\n"
    }
   }
  },
  {
   "cell_type": "code",
   "execution_count": null,
   "outputs": [],
   "source": [
    "y_pred = model.predict(X_test)\n",
    "y_pred = y_pred.flatten()\n",
    "print(y_pred.shape)\n",
    "y_pred[y_pred >= 0.5] = 1\n",
    "y_pred[y_pred < 0.5] = 0\n",
    "cm = confusion_matrix(y_test, y_pred)\n",
    "plot_confusion_matrix(cm, [0, 1], normalize=True)"
   ],
   "metadata": {
    "collapsed": false,
    "pycharm": {
     "name": "#%%\n"
    }
   }
  },
  {
   "cell_type": "code",
   "execution_count": 4,
   "metadata": {},
   "outputs": [
    {
     "name": "stdout",
     "output_type": "stream",
     "text": [
      "Loaded model from disk\n"
     ]
    }
   ],
   "source": []
  },
  {
   "cell_type": "code",
   "execution_count": 7,
   "metadata": {},
   "outputs": [
    {
     "name": "stdout",
     "output_type": "stream",
     "text": [
      "(10658,)\n",
      "Normalized confusion matrix\n",
      "[[0.76918746 0.23081254]\n",
      " [0.10527303 0.89472697]]\n"
     ]
    },
    {
     "data": {
      "image/png": "[encoded data removed]",
      "text/plain": [
       "<Figure size 432x288 with 2 Axes>"
      ]
     },
     "metadata": {
      "needs_background": "light"
     },
     "output_type": "display_data"
    }
   ],
   "source": [
    "y_pred = model.predict(X_test)\n",
    "y_pred = y_pred.flatten()\n",
    "print(y_pred.shape)\n",
    "y_pred[y_pred >= 0.5] = 1\n",
    "y_pred[y_pred < 0.5] = 0\n",
    "cm = confusion_matrix(y_test, y_pred)\n",
    "plot_confusion_matrix(cm, [0, 1], normalize=True)"
   ]
  },
  {
   "cell_type": "code",
   "execution_count": null,
   "metadata": {},
   "outputs": [],
   "source": []
  }
 ],
 "metadata": {
  "kernelspec": {
   "display_name": "Python 3",
   "language": "python",
   "name": "python3"
  },
  "language_info": {
   "codemirror_mode": {
    "name": "ipython",
    "version": 3
   },
   "file_extension": ".py",
   "mimetype": "text/x-python",
   "name": "python",
   "nbconvert_exporter": "python",
   "pygments_lexer": "ipython3",
   "version": "3.6.10"
  }
 },
 "nbformat": 4,
 "nbformat_minor": 4
}