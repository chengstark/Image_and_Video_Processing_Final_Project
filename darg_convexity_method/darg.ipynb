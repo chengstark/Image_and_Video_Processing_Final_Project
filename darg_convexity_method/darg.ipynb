{
 "cells": [
  {
   "cell_type": "code",
   "execution_count": null,
   "metadata": {},
   "outputs": [],
   "source": [
    "import cv2\n",
    "import matplotlib.pyplot as plt\n",
    "import numpy as np\n",
    "from scipy.signal import medfilt"
   ]
  },
  {
   "cell_type": "code",
   "execution_count": null,
   "metadata": {},
   "outputs": [],
   "source": [
    "def d_arg(image_in, sz=1):\n",
    "    \"\"\"\n",
    "    Needs testing\n",
    "    \"\"\"\n",
    "    image_filt = medfilt(image_in, kernel_size=sz)\n",
    "    \n",
    "    d_arg = np.zeros(image_filt.shape)\n",
    "    for i in range(4):\n",
    "        image_rot = np.rot90(image_filt, i)\n",
    "        grad_x,grad_y = np.gradient(image_rot)\n",
    "        theta = np.arctan2(grad_y, grad_x)\n",
    "        theta_grad_y = np.gradient(theta, axis=1)\n",
    "        \n",
    "        d_arg += np.rot90(theta_grad_y, -i)\n",
    "    \n",
    "    d_arg_2 = np.square(d_arg);\n",
    "    d_arg_final = d_arg_2 / np.amax(d_arg_2) * 255\n",
    "    \n",
    "    return d_arg_final"
   ]
  },
  {
   "cell_type": "code",
   "execution_count": null,
   "metadata": {},
   "outputs": [],
   "source": [
    "if __name__ == '__main__':\n",
    "    # Load image\n",
    "    plt.clf()\n",
    "    image = cv2.imread('../Images/' + 'Liu10.PNG')\n",
    "    grayscale = cv2.cvtColor(image, cv2.COLOR_BGR2GRAY)\n",
    "\n",
    "    # Call method and show image\n",
    "    image_out = d_arg(grayscale, 1)\n",
    "    image_final = cv2.cvtColor(image_out.astype('uint8'), cv2.COLOR_GRAY2RGB)\n",
    "    plt.figure(figsize=(15,15))\n",
    "    plt.imshow(image_final)\n",
    "    plt.show()"
   ]
  },
  {
   "cell_type": "code",
   "execution_count": null,
   "metadata": {},
   "outputs": [],
   "source": []
  }
 ],
 "metadata": {
  "kernelspec": {
   "display_name": "Python 3",
   "language": "python",
   "name": "python3"
  },
  "language_info": {
   "codemirror_mode": {
    "name": "ipython",
    "version": 3
   },
   "file_extension": ".py",
   "mimetype": "text/x-python",
   "name": "python",
   "nbconvert_exporter": "python",
   "pygments_lexer": "ipython3",
   "version": "3.8.3"
  }
 },
 "nbformat": 4,
 "nbformat_minor": 4
}
